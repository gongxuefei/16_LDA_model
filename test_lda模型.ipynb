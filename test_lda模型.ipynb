{
 "cells": [
  {
   "cell_type": "code",
   "execution_count": 2,
   "metadata": {},
   "outputs": [
    {
     "name": "stderr",
     "output_type": "stream",
     "text": [
      "Building prefix dict from the default dictionary ...\n",
      "Loading model from cache /tmp/jieba.cache\n",
      "Loading model cost 1.787 seconds.\n",
      "Prefix dict has been built succesfully.\n"
     ]
    }
   ],
   "source": [
    "import jieba.analyse\n",
    "import jieba.posseg\n",
    "from gensim import models\n",
    "import sys\n",
    "sys.path.append('/opt/gongxf/python3_pj/Robot')\n",
    "\n",
    "jieba.load_userdict('../original_data/finWordDict.txt')"
   ]
  },
  {
   "cell_type": "code",
   "execution_count": 5,
   "metadata": {},
   "outputs": [],
   "source": [
    " # step1: 文件输入\n",
    "q_path = '/opt/gongxf/python3_pj/Robot/generate_data/knowledge_all_session.csv'\n",
    "user_dict = \"/opt/gongxf/python3_pj/Robot/original_data/finWordDict.txt\"\n",
    "stop_words_path = \"/opt/gongxf/python3_pj/Robot/original_data/stop_words.txt\"\n",
    "    #存放了client_question_2017.csv的tf-idf模型\n",
    "model_path = \"/opt/gongxf/python3_pj/Robot/Ex_keywords/keyWords_Model\"\n",
    "ldaModel_path=\"/opt/gongxf/python3_pj/Robot/Lda_Theme/Theme_Model\""
   ]
  },
  {
   "cell_type": "code",
   "execution_count": 7,
   "metadata": {},
   "outputs": [],
   "source": [
    " lda_model=models.ldamodel.LdaModel.load(ldaModel_path + \"/lda_model\")"
   ]
  },
  {
   "cell_type": "code",
   "execution_count": 16,
   "metadata": {},
   "outputs": [
    {
     "name": "stdout",
     "output_type": "stream",
     "text": [
      "(0, '0.025*\"注销\" + 0.016*\"账号\" + 0.013*\"解绑\" + 0.012*\"账户\" + 0.011*\"易付宝\" + 0.011*\"客服\" + 0.010*\"绑定\" + 0.010*\"手机号\" + 0.010*\"易购\" + 0.010*\"账\"')\n",
      "(1, '0.141*\"你好\" + 0.014*\"人工客服\" + 0.014*\"变现\" + 0.004*\"通\" + 0.004*\"碎\" + 0.004*\"买\" + 0.004*\"撇嘴\" + 0.003*\"打不开\" + 0.003*\"屏险\" + 0.003*\"任性付\"')\n",
      "(2, '0.023*\"支付\" + 0.017*\"人工\" + 0.015*\"分期\" + 0.014*\"付款\" + 0.014*\"免息\" + 0.010*\"买\" + 0.010*\"支付宝\" + 0.009*\"苏宁\" + 0.009*\"任性付\" + 0.008*\"你好\"')\n",
      "(3, '0.034*\"冻结\" + 0.033*\"还款\" + 0.021*\"任性贷\" + 0.021*\"解冻\" + 0.014*\"逾期\" + 0.014*\"有人\" + 0.012*\"账户\" + 0.012*\"你好\" + 0.009*\"存在\" + 0.008*\"提前\"')\n",
      "(4, '0.017*\"您好\" + 0.016*\"额度\" + 0.008*\"刷\" + 0.008*\"任性付\" + 0.008*\"任性贷\" + 0.008*\"亲\" + 0.007*\"理财券\" + 0.007*\"脸\" + 0.006*\"提升\" + 0.006*\"你好\"')\n",
      "(5, '0.012*\"银行卡\" + 0.008*\"零钱宝\" + 0.008*\"绑定\" + 0.006*\"钱\" + 0.006*\"支付\" + 0.006*\"基金\" + 0.005*\"你好\" + 0.005*\"显示\" + 0.005*\"转\" + 0.005*\"邀请\"')\n",
      "(6, '0.009*\"取消\" + 0.008*\"订单\" + 0.007*\"你好\" + 0.006*\"没\" + 0.005*\"退款\" + 0.005*\"说\" + 0.005*\"实名\" + 0.005*\"话费\" + 0.004*\"实名认证\" + 0.004*\"谢谢\"')\n",
      "(7, '0.007*\"微笑\" + 0.007*\"说\" + 0.006*\"实名认证\" + 0.006*\"券\" + 0.005*\"没\" + 0.005*\"分期付款\" + 0.005*\"你好\" + 0.005*\"谢谢\" + 0.005*\"买\" + 0.005*\"疑问\"')\n",
      "(8, '0.018*\"优惠券\" + 0.017*\"实名认证\" + 0.013*\"实名\" + 0.011*\"元\" + 0.011*\"券\" + 0.009*\"新人\" + 0.009*\"新\" + 0.009*\"用户\" + 0.009*\"没\" + 0.008*\"提额\"')\n",
      "(9, '0.034*\"任性付\" + 0.023*\"任性贷\" + 0.022*\"提现\" + 0.020*\"借款\" + 0.020*\"额度\" + 0.019*\"申请\" + 0.017*\"失败\" + 0.016*\"开通\" + 0.013*\"多久\" + 0.013*\"升级\"')\n"
     ]
    }
   ],
   "source": [
    "for topic in lda_model.print_topics(num_words=10):\n",
    "    print(topic)"
   ]
  },
  {
   "cell_type": "code",
   "execution_count": 15,
   "metadata": {},
   "outputs": [
    {
     "name": "stdout",
     "output_type": "stream",
     "text": [
      "('注销', 0.025464678)\n",
      "('账号', 0.016100274)\n",
      "('解绑', 0.013464605)\n",
      "('账户', 0.011796289)\n",
      "('易付宝', 0.011098288)\n",
      "('客服', 0.010722331)\n",
      "('绑定', 0.010380771)\n",
      "('手机号', 0.010121257)\n",
      "('易购', 0.0098844925)\n",
      "('账', 0.009685506)\n"
     ]
    }
   ],
   "source": [
    "for topic in lda_model.show_topic(0,topn=10):\n",
    "    print(topic)"
   ]
  },
  {
   "cell_type": "code",
   "execution_count": null,
   "metadata": {},
   "outputs": [],
   "source": []
  }
 ],
 "metadata": {
  "kernelspec": {
   "display_name": "Python 3",
   "language": "python",
   "name": "python3"
  },
  "language_info": {
   "codemirror_mode": {
    "name": "ipython",
    "version": 3
   },
   "file_extension": ".py",
   "mimetype": "text/x-python",
   "name": "python",
   "nbconvert_exporter": "python",
   "pygments_lexer": "ipython3",
   "version": "3.6.4"
  }
 },
 "nbformat": 4,
 "nbformat_minor": 2
}
